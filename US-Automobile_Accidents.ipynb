{
  "nbformat": 4,
  "nbformat_minor": 0,
  "metadata": {
    "colab": {
      "provenance": [],
      "authorship_tag": "ABX9TyNEwUOnXRueqVhwN0TV8Lee",
      "include_colab_link": true
    },
    "kernelspec": {
      "name": "python3",
      "display_name": "Python 3"
    },
    "language_info": {
      "name": "python"
    }
  },
  "cells": [
    {
      "cell_type": "markdown",
      "metadata": {
        "id": "view-in-github",
        "colab_type": "text"
      },
      "source": [
        "<a href=\"https://colab.research.google.com/github/antoniolang1107/US-Auto-Accidents/blob/main/US-Automobile_Accidents.ipynb\" target=\"_parent\"><img src=\"https://colab.research.google.com/assets/colab-badge.svg\" alt=\"Open In Colab\"/></a>"
      ]
    },
    {
      "cell_type": "markdown",
      "source": [
        "# US Automobile Accident Data Analysis\n",
        "Authors: Antonio Lang, Urja Strethsa\n",
        "\n",
        "Dataset: [A Countrywide Traffic Accident Dataset](https://www.kaggle.com/datasets/sobhanmoosavi/us-accidents?select=US_Accidents_Dec21_updated.csv)\n",
        "\n",
        "This project explores the above dataset for the primary causes and predictors of automobile accidents in the US."
      ],
      "metadata": {
        "id": "3WWyCfzxEBIn"
      }
    },
    {
      "cell_type": "code",
      "execution_count": null,
      "metadata": {
        "id": "8uG2qckcD9J9"
      },
      "outputs": [],
      "source": []
    }
  ]
}